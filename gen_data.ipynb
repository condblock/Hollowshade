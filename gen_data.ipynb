{
 "cells": [
  {
   "cell_type": "code",
   "execution_count": 3,
   "metadata": {},
   "outputs": [],
   "source": [
    "import os\n",
    "import sys\n",
    "from PIL import Image\n",
    "import glob\n",
    "import pandas as pd\n",
    "from torchvision import transforms\n",
    "from opt import PoisonGeneration\n",
    "import json\n",
    "import random\n",
    "from tqdm.notebook import tqdm"
   ]
  },
  {
   "cell_type": "code",
   "execution_count": 4,
   "metadata": {},
   "outputs": [],
   "source": [
    "dir = 'data/ImageNet'\n",
    "paths = glob.glob(os.path.join(dir, '*.jpeg'))\n",
    "imgs = [Image.open(path) for path in paths[:2000]]"
   ]
  },
  {
   "cell_type": "code",
   "execution_count": null,
   "metadata": {},
   "outputs": [
    {
     "name": "stderr",
     "output_type": "stream",
     "text": [
      "c:\\Users\\sunwo\\AppData\\Local\\Programs\\Python\\Python39\\lib\\site-packages\\diffusers\\pipelines\\pipeline_loading_utils.py:219: FutureWarning: You are loading the variant fp16 from stabilityai/stable-diffusion-2-1 via `revision='fp16'` even though you can load it via `variant=`fp16`. Loading model variants via `revision='fp16'` is deprecated and will be removed in diffusers v1. Please use `variant='fp16'` instead.\n",
      "  warnings.warn(\n",
      "unet\\diffusion_pytorch_model.safetensors not found\n"
     ]
    },
    {
     "data": {
      "application/vnd.jupyter.widget-view+json": {
       "model_id": "8f4404b386814d7c8b6801681288221b",
       "version_major": 2,
       "version_minor": 0
      },
      "text/plain": [
       "Loading pipeline components...:   0%|          | 0/5 [00:00<?, ?it/s]"
      ]
     },
     "metadata": {},
     "output_type": "display_data"
    },
    {
     "name": "stderr",
     "output_type": "stream",
     "text": [
      "An error occurred while trying to fetch C:\\Users\\sunwo\\.cache\\huggingface\\hub\\models--stabilityai--stable-diffusion-2-1\\snapshots\\f7f33030acc57428be85fbec092c37a78231d75a\\unet: Error no file named diffusion_pytorch_model.safetensors found in directory C:\\Users\\sunwo\\.cache\\huggingface\\hub\\models--stabilityai--stable-diffusion-2-1\\snapshots\\f7f33030acc57428be85fbec092c37a78231d75a\\unet.\n",
      "Defaulting to unsafe serialization. Pass `allow_pickle=False` to raise an error instead.\n",
      "An error occurred while trying to fetch C:\\Users\\sunwo\\.cache\\huggingface\\hub\\models--stabilityai--stable-diffusion-2-1\\snapshots\\f7f33030acc57428be85fbec092c37a78231d75a\\vae: Error no file named diffusion_pytorch_model.safetensors found in directory C:\\Users\\sunwo\\.cache\\huggingface\\hub\\models--stabilityai--stable-diffusion-2-1\\snapshots\\f7f33030acc57428be85fbec092c37a78231d75a\\vae.\n",
      "Defaulting to unsafe serialization. Pass `allow_pickle=False` to raise an error instead.\n"
     ]
    },
    {
     "data": {
      "application/vnd.jupyter.widget-view+json": {
       "model_id": "326a03b6207e4ba4a3f8b5344c06bc77",
       "version_major": 2,
       "version_minor": 0
      },
      "text/plain": [
       "  0%|          | 0/500 [00:00<?, ?it/s]"
      ]
     },
     "metadata": {},
     "output_type": "display_data"
    }
   ],
   "source": [
    "idx = pd.read_csv('data/ImageNet-idx.csv')\n",
    "\n",
    "with open('data/ImageNet-labels.json', 'r') as f:\n",
    "    labels = json.load(f)\n",
    "poison_generator = PoisonGeneration(device=\"cuda\", eps=0.1)\n",
    "imgs_poisoned = [poison_generator.generate_one(pil_image=img, target_concept=labels[f'{random.randint(0,999)}']) for img in tqdm(imgs[:200])]"
   ]
  },
  {
   "cell_type": "code",
   "execution_count": null,
   "metadata": {},
   "outputs": [],
   "source": [
    "poisoned_path = 'data/classify/1'\n",
    "for idx, img in enumerate(imgs_poisoned):\n",
    "    img.save(os.path.join(poisoned_path, f\"{idx}_p.jpeg\"))\n",
    "original_path = 'data/classify/0'\n",
    "for idx, img in enumerate(imgs[250:750]):\n",
    "    img.save(os.path.join(original_path, f\"{idx}.jpeg\"))"
   ]
  },
  {
   "cell_type": "code",
   "execution_count": null,
   "metadata": {},
   "outputs": [],
   "source": []
  }
 ],
 "metadata": {
  "kernelspec": {
   "display_name": "Python 3",
   "language": "python",
   "name": "python3"
  },
  "language_info": {
   "codemirror_mode": {
    "name": "ipython",
    "version": 3
   },
   "file_extension": ".py",
   "mimetype": "text/x-python",
   "name": "python",
   "nbconvert_exporter": "python",
   "pygments_lexer": "ipython3",
   "version": "3.9.7"
  }
 },
 "nbformat": 4,
 "nbformat_minor": 2
}
